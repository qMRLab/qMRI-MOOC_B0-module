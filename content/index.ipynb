{
 "cells": [
  {
   "cell_type": "markdown",
   "metadata": {},
   "source": [
    "# MRathon 2024 - NeuroLibre preprint project\n",
    "\n",
    "Hello world!\n"
   ]
  },
  {
   "cell_type": "markdown",
   "metadata": {},
   "source": [
    "## Figure 1"
   ]
  },
  {
   "cell_type": "code",
   "execution_count": null,
   "metadata": {
    "tags": [
     "hide_input",
     "remove_output"
    ]
   },
   "outputs": [],
   "source": [
    "import numpy as np\n",
    "from scipy.fft import fftn, ifftn, fftshift\n",
    "import plotly.express as px\n",
    "import plotly.graph_objects as go\n",
    "from plotly.subplots import make_subplots\n",
    "from IPython.display import display, HTML\n",
    "from plotly.offline import init_notebook_mode, iplot, plot\n",
    "\n",
    "init_notebook_mode(connected=True)\n",
    "vol_size = (128, 128, 128)\n",
    "vol_centre = (vol_size[1] // 2, vol_size[2] // 2)\n",
    "offset = (10, 20)\n",
    "radius_inner = 10\n",
    "radius_outer = 40\n",
    "cylinder_base = np.zeros(vol_size)\n",
    "cylinder_internal = np.zeros(vol_size)\n",
    "\n",
    "x = np.arange(-vol_size[1]//2,vol_size[1]//2,dtype=float)\n",
    "y = x\n",
    "z = x\n",
    "X,Y,Z = np.meshgrid(x,y,z)\n",
    "\n",
    "cylinder_base[X**2+Y**2<=radius_outer**2] = 1\n",
    "\n",
    "cylinder_internal[(X-offset[0])**2+(Y-offset[1])**2<=radius_inner**2] += 0.1\n",
    "\n",
    "kx = X\n",
    "ky = Y\n",
    "kz = Z\n",
    "KK = (kx**2 + ky**2 + kz**2)\n",
    "KK[KK==0] = np.nan\n",
    "dipole_kernel = 2./3 - (kx**2)/(KK)\n",
    "dipole_kernel[(kx**2 + ky**2 + kz**2) == 0] = 0\n",
    "\n",
    "fieldmap = np.real(ifftn(fftshift(dipole_kernel) * (fftn(cylinder_internal))))\n",
    "\n",
    "idx = 64\n",
    "\n",
    "fig = make_subplots(rows=1, cols=3, shared_xaxes=False, horizontal_spacing=0.1,\n",
    "                    subplot_titles=(\"Geometry\",\n",
    "                                    \"Dipole kernel\",\n",
    "                                    \"Fieldmap\"),\n",
    "                    specs=[[{\"type\": \"Heatmap\"}, {\"type\": \"Heatmap\"}, {\"type\": \"Heatmap\"}]])\n",
    "fig.add_trace(go.Heatmap(z=cylinder_base[:,:,idx]+cylinder_internal[:,:,64], colorscale='gray'), 1, 1)\n",
    "fig.add_trace(go.Heatmap(z=dipole_kernel[:,:,idx], colorscale='gray'), 1, 2)\n",
    "fig.add_trace(go.Heatmap(z=fieldmap[:,:,idx], colorscale='gray'), 1, 3)\n",
    "\n",
    "plot(fig, filename = 'geometry.html')\n",
    "\n"
   ]
  },
  {
   "cell_type": "code",
   "execution_count": null,
   "metadata": {
    "tags": [
     "remove_input",
     "report_output"
    ]
   },
   "outputs": [],
   "source": [
    "display(HTML('geometry.html'))"
   ]
  },
  {
   "cell_type": "markdown",
   "metadata": {},
   "source": [
    "## Figure 2"
   ]
  },
  {
   "cell_type": "code",
   "execution_count": null,
   "metadata": {
    "tags": [
     "hide_input",
     "remove_output"
    ]
   },
   "outputs": [],
   "source": [
    "fig = go.Figure()\n",
    "\n",
    "echo_times = [10, 30, 50]\n",
    "for step in echo_times:\n",
    "    fig.add_trace(\n",
    "        go.Heatmap(\n",
    "            visible=False,\n",
    "            z=(fieldmap[:,:,idx]*step) % np.pi,\n",
    "            colorscale='gray'))\n",
    "\n",
    "fig.data[0].visible = True\n",
    "\n",
    "# Create and add slider\n",
    "steps = []\n",
    "for i in range(len(fig.data)):\n",
    "    step = dict(\n",
    "        method=\"update\",\n",
    "        args=[{\"visible\": [False] * len(fig.data)},\n",
    "              {\"title\": \"TE=\" + str(echo_times[i]) + \" ms\"}],  # layout attribute\n",
    "    )\n",
    "    step[\"args\"][0][\"visible\"][i] = True  # Toggle i'th trace to \"visible\"\n",
    "    steps.append(step)\n",
    "\n",
    "sliders = [dict(\n",
    "    active=10,\n",
    "    currentvalue={\"prefix\": \"Frequency: \"},\n",
    "    pad={\"t\": 50},\n",
    "    steps=steps\n",
    ")]\n",
    "\n",
    "fig.update_layout(\n",
    "    sliders=sliders\n",
    ")\n",
    "\n",
    "plot(fig, filename = 'cylinder.html')"
   ]
  },
  {
   "cell_type": "code",
   "execution_count": null,
   "metadata": {
    "tags": [
     "remove_input",
     "report_output"
    ]
   },
   "outputs": [],
   "source": [
    "display(HTML('cylinder.html'))"
   ]
  }
 ],
 "metadata": {
  "celltoolbar": "Tags",
  "kernelspec": {
   "display_name": "Python 3 (ipykernel)",
   "language": "python",
   "name": "python3"
  },
  "language_info": {
   "codemirror_mode": {
    "name": "ipython",
    "version": 3
   },
   "file_extension": ".py",
   "mimetype": "text/x-python",
   "name": "python",
   "nbconvert_exporter": "python",
   "pygments_lexer": "ipython3",
   "version": "3.9.0"
  }
 },
 "nbformat": 4,
 "nbformat_minor": 4
}
