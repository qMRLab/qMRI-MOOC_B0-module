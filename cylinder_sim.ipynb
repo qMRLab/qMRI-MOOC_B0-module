{
 "cells": [
  {
   "cell_type": "code",
   "execution_count": null,
   "id": "2c36e403-7e73-47f2-a06b-75830ec7be39",
   "metadata": {},
   "outputs": [],
   "source": [
    "import numpy as np\n",
    "from scipy.fft import fftn, ifftn, fftshift\n",
    "import plotly.express as px\n",
    "import plotly.graph_objects as go\n",
    "from plotly.subplots import make_subplots"
   ]
  },
  {
   "cell_type": "code",
   "execution_count": null,
   "id": "396e6242-f067-47f8-b0cd-7d228b25818a",
   "metadata": {},
   "outputs": [],
   "source": [
    "vol_size = (128, 128, 128)\n",
    "vol_centre = (vol_size[1] // 2, vol_size[2] // 2)\n",
    "offset = (10, 20)\n",
    "radius_inner = 10\n",
    "radius_outer = 40\n",
    "cylinder_base = np.zeros(vol_size)\n",
    "cylinder_internal = np.zeros(vol_size)\n",
    "\n",
    "x = np.arange(-vol_size[1]//2,vol_size[1]//2,dtype=float)\n",
    "y = x\n",
    "z = x\n",
    "X,Y,Z = np.meshgrid(x,y,z)\n",
    "\n",
    "cylinder_base[X**2+Y**2<=radius_outer**2] = 1\n",
    "\n",
    "cylinder_internal[(X-offset[0])**2+(Y-offset[1])**2<=radius_inner**2] += 0.1"
   ]
  },
  {
   "cell_type": "code",
   "execution_count": null,
   "id": "2921239d-062b-4f50-bb5b-fd568be46e9d",
   "metadata": {},
   "outputs": [],
   "source": [
    "kx = X\n",
    "ky = Y\n",
    "kz = Z\n",
    "KK = (kx**2 + ky**2 + kz**2)\n",
    "KK[KK==0] = np.nan\n",
    "dipole_kernel = 2./3 - (kx**2)/(KK)\n",
    "dipole_kernel[(kx**2 + ky**2 + kz**2) == 0] = 0"
   ]
  },
  {
   "cell_type": "code",
   "execution_count": null,
   "id": "aa56b729-59da-4fbb-b4cb-c9863d9ee04a",
   "metadata": {},
   "outputs": [],
   "source": [
    "fieldmap = np.real(ifftn(fftshift(dipole_kernel) * (fftn(cylinder_internal))))"
   ]
  },
  {
   "cell_type": "code",
   "execution_count": null,
   "id": "17152f62-03e7-4d10-95a7-7ad3bae45c39",
   "metadata": {},
   "outputs": [],
   "source": [
    "idx = 64\n",
    "\n",
    "fig = make_subplots(rows=1, cols=3, shared_xaxes=False, horizontal_spacing=0.1,\n",
    "                    subplot_titles=(\"Geometry\",\n",
    "                                    \"Dipole kernel\",\n",
    "                                    \"Fieldmap\"),\n",
    "                    specs=[[{\"type\": \"Heatmap\"}, {\"type\": \"Heatmap\"}, {\"type\": \"Heatmap\"}]])\n",
    "fig.add_trace(go.Heatmap(z=cylinder_base[:,:,idx]+cylinder_internal[:,:,64], colorscale='gray'), 1, 1)\n",
    "fig.add_trace(go.Heatmap(z=dipole_kernel[:,:,idx], colorscale='gray'), 1, 2)\n",
    "fig.add_trace(go.Heatmap(z=fieldmap[:,:,idx], colorscale='gray'), 1, 3)\n",
    "fig.show()"
   ]
  },
  {
   "cell_type": "code",
   "execution_count": null,
   "id": "97876e43-7be3-41d1-b725-c2ca14b66d94",
   "metadata": {},
   "outputs": [],
   "source": [
    "fig = go.Figure()\n",
    "\n",
    "for step in np.arange(10, 60, 20):\n",
    "    fig.add_trace(\n",
    "        go.Heatmap(\n",
    "            visible=False,\n",
    "            z=fieldmap*step % np.pi))\n",
    "\n",
    "fig.data[0].visible = True\n",
    "\n",
    "# Create and add slider\n",
    "steps = []\n",
    "for i in range(len(fig.data)):\n",
    "    step = dict(\n",
    "        method=\"update\",\n",
    "        args=[{\"visible\": [False] * len(fig.data)},\n",
    "              {\"title\": \"TE=\" + str(i) + \" ms\"}],  # layout attribute\n",
    "    )\n",
    "    step[\"args\"][0][\"visible\"][i] = True  # Toggle i'th trace to \"visible\"\n",
    "    steps.append(step)\n",
    "    \n",
    "print('ok')\n",
    "\n",
    "sliders = [dict(\n",
    "    active=10,\n",
    "    currentvalue={\"prefix\": \"Frequency: \"},\n",
    "    pad={\"t\": 50},\n",
    "    steps=steps\n",
    ")]\n",
    "\n",
    "fig.update_layout(\n",
    "    sliders=sliders\n",
    ")\n",
    "\n",
    "fig.show()"
   ]
  }
 ],
 "metadata": {
  "kernelspec": {
   "display_name": "Python 3 (ipykernel)",
   "language": "python",
   "name": "python3"
  },
  "language_info": {
   "name": ""
  }
 },
 "nbformat": 4,
 "nbformat_minor": 5
}
