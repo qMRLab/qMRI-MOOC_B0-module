{
 "cells": [
  {
   "cell_type": "code",
   "execution_count": null,
   "id": "63c39eb3-2ac0-4456-a905-d6981285a9b6",
   "metadata": {},
   "outputs": [],
   "source": [
    "import numpy as np\n",
    "import plotly.express as px\n",
    "import os\n",
    "import nibabel as nib\n",
    "import numpy as np\n",
    "from plotly.subplots import make_subplots\n",
    "import plotly.graph_objects as go\n",
    "import math"
   ]
  },
  {
   "cell_type": "markdown",
   "id": "9e5df838-b12f-4ce8-a410-4cac4ae91317",
   "metadata": {},
   "source": [
    "### Figure"
   ]
  },
  {
   "cell_type": "code",
   "execution_count": null,
   "id": "fb0eb319-66a0-4d4e-93f0-e2b25825ed47",
   "metadata": {},
   "outputs": [],
   "source": [
    "fname_mag_e1 = os.path.join(\"fmap\", \"BR_e1_M.nii\")\n",
    "fname_phase_e1 = os.path.join(\"fmap\", \"BR_e1_ph.nii\")\n",
    "fname_phase_e2 = os.path.join(\"fmap\", \"BR_e2_ph.nii\")\n",
    "fname_phase_e3 = os.path.join(\"fmap\", \"BR_e3_ph.nii\")\n",
    "fname_phase_e4 = os.path.join(\"fmap\", \"BR_e4_ph.nii\")\n",
    "fname_mask = os.path.join(\"fmap\", \"mask.nii.gz\")\n",
    "fname_fmap = os.path.join(\"fmap\", \"fmap.nii\")\n",
    "\n",
    "nii_mag_e1 = nib.load(fname_mag_e1)\n",
    "nii_phase_e1 = nib.load(fname_phase_e1)\n",
    "nii_phase_e2 = nib.load(fname_phase_e2)\n",
    "nii_phase_e3 = nib.load(fname_phase_e3)\n",
    "nii_phase_e4 = nib.load(fname_phase_e4)\n",
    "nii_mask = nib.load(fname_mask)\n",
    "nii_fmap = nib.load(fname_fmap)"
   ]
  },
  {
   "cell_type": "code",
   "execution_count": null,
   "id": "5e51f4c7-1f99-4610-b610-c2eafe51d311",
   "metadata": {},
   "outputs": [],
   "source": [
    "def complex_difference(phase1, phase2):\n",
    "    \"\"\" Calculates the complex difference between 2 phase arrays (phase2 - phase1)\n",
    "\n",
    "    Args:\n",
    "        phase1 (numpy.ndarray): Array containing phase data in radians\n",
    "        phase2 (numpy.ndarray): Array containing phase data in radians. Must be the same shape as phase1.\n",
    "\n",
    "    Returns:\n",
    "        numpy.ndarray: The difference in phase between each voxels of phase2 and phase1 (phase2 - phase1)\n",
    "    \"\"\"\n",
    "\n",
    "    # Calculate phasediff using complex difference\n",
    "    comp_0 = np.ones_like(phase1) * np.exp(-1j * phase1)\n",
    "    comp_1 = np.ones_like(phase2) * np.exp(1j * phase2)\n",
    "    return np.angle(comp_0 * comp_1)"
   ]
  },
  {
   "cell_type": "code",
   "execution_count": null,
   "id": "34fffc05-5890-48dc-b13f-3fa00a3e5c49",
   "metadata": {},
   "outputs": [],
   "source": [
    "from plotly.subplots import make_subplots\n",
    "import plotly.graph_objects as go\n",
    "mask = nii_mask.get_fdata()[:-10,:,50]\n",
    "phase3 = (nii_phase_e3.get_fdata()[:-10,:,50] / 4095 * 2 * math.pi - math.pi) * mask\n",
    "phase4 = (nii_phase_e4.get_fdata()[:-10,:,50] / 4095 * 2 * math.pi - math.pi) * mask\n",
    "phase_diff = complex_difference(phase3, phase4)\n",
    "echo_time3 = 0.009\n",
    "echo_time4 = 0.013\n",
    "fmap = phase_diff / (echo_time4 - echo_time3) / 2 / math.pi\n",
    "n=4\n",
    "# Attempt at subplots\n",
    "fig = make_subplots(rows=1, cols=n, shared_xaxes=False, horizontal_spacing=0.1, subplot_titles=(\"Phase 1 (rad)\", \"Phase 2 (rad)\", \"Phase difference (rad)\", \"B0 field map (Hz)\"), specs=[[{\"type\": \"Heatmap\"}, {\"type\": \"Heatmap\"}, {\"type\": \"Heatmap\"}, {\"type\": \"Heatmap\"}]], )\n",
    "\n",
    "fig.add_trace(go.Heatmap(z=np.rot90(phase3, k=-1), colorscale='gray', colorbar_x=1/n - 0.05), 1, 1)\n",
    "fig.add_trace(go.Heatmap(z=np.rot90(phase4, k=-1), colorscale='gray', colorbar_x=2/n - 0.02), 1, 2)\n",
    "fig.add_trace(go.Heatmap(z=np.rot90(phase_diff, k=-1), colorscale='gray', colorbar_x=3/n - 0.02), 1, 3)\n",
    "fig.add_trace(go.Heatmap(z=np.rot90(fmap, k=-1), colorscale='gray'), 1, 4)\n",
    "fig.update_xaxes(showticklabels=False)\n",
    "fig.update_yaxes(showticklabels=False)\n",
    "\n",
    "fig.show()"
   ]
  },
  {
   "cell_type": "markdown",
   "id": "ad22b681-e31a-406f-9b2e-dfa13739bb4f",
   "metadata": {},
   "source": [
    "### Figure"
   ]
  },
  {
   "cell_type": "code",
   "execution_count": null,
   "id": "18f40759-9232-4f37-b0c1-84623c9ea75a",
   "metadata": {},
   "outputs": [],
   "source": [
    "# Phase evolution though different echo times\n",
    "mask = nii_mask.get_fdata()[:-10,:,50]\n",
    "fmap = nii_fmap.get_fdata()[:-10,:,50] * mask  # [Hz]\n",
    "phase1 = (nii_phase_e1.get_fdata()[:-10,:,50] / 4095 * 2 * math.pi - math.pi) * mask\n",
    "\n",
    "echo_time1 = 0.00263\n",
    "phase0 = phase1 - (0.00263 * (fmap * 2 * math.pi))\n",
    "\n",
    "echo_times = np.linspace(0.001, 0.02, 20)\n",
    "fig = go.Figure()\n",
    "for echo_time in echo_times:\n",
    "    phase = phase0 + (fmap * echo_time * 2 * math.pi)\n",
    "    phase = np.angle(np.exp(1j*phase))\n",
    "    fig.add_trace(go.Heatmap(z=np.rot90(phase, k=-1), colorscale='gray'))\n",
    "\n",
    "steps = []\n",
    "for i in range(len(fig.data)):\n",
    "    step = dict(\n",
    "        method=\"update\",\n",
    "        label=echo_times[i],\n",
    "        args=[{\"visible\": [False] * len(fig.data)}],  # layout attribute\n",
    "    )\n",
    "    step[\"args\"][0][\"visible\"][i] = True  # Toggle i'th trace to \"visible\"\n",
    "    steps.append(step)\n",
    "\n",
    "fig.data[0].visible = True\n",
    "\n",
    "sliders = [dict(\n",
    "    active=19,\n",
    "    currentvalue={\"prefix\": \"Echo Time: \"},\n",
    "    steps=steps\n",
    ")]\n",
    "\n",
    "fig.update_layout(\n",
    "    sliders=sliders\n",
    ")\n",
    "\n",
    "fig.update_layout(\n",
    "    title=dict(text=\"Phase at different echo times\", x=0.5)\n",
    ")\n",
    "fig.update_xaxes(showticklabels=False)\n",
    "fig.update_yaxes(showticklabels=False)\n",
    "fig.update_layout({\"height\": 500, \"width\": 500})\n",
    "fig.show()"
   ]
  },
  {
   "cell_type": "markdown",
   "id": "0bcf3ace-2149-473f-854c-69f3b379115d",
   "metadata": {},
   "source": [
    "### Figure"
   ]
  },
  {
   "cell_type": "code",
   "execution_count": null,
   "id": "fedf50ee-ea16-46cd-bfb0-f83abe97f220",
   "metadata": {},
   "outputs": [],
   "source": []
  }
 ],
 "metadata": {
  "kernelspec": {
   "display_name": "Python 3 (ipykernel)",
   "language": "python",
   "name": "python3"
  },
  "language_info": {
   "codemirror_mode": {
    "name": "ipython",
    "version": 3
   },
   "file_extension": ".py",
   "mimetype": "text/x-python",
   "name": "python",
   "nbconvert_exporter": "python",
   "pygments_lexer": "ipython3",
   "version": "3.9.0"
  }
 },
 "nbformat": 4,
 "nbformat_minor": 5
}
