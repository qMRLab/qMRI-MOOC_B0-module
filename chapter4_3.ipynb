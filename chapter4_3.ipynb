{
 "cells": [
  {
   "cell_type": "code",
   "execution_count": null,
   "id": "7ee2da8d-6336-4054-99c7-bc374f0a0e7b",
   "metadata": {},
   "outputs": [],
   "source": [
    "import numpy as np\n",
    "import plotly.express as px\n",
    "import os\n",
    "import nibabel as nib\n",
    "import numpy as np\n",
    "from plotly.subplots import make_subplots\n",
    "import plotly.graph_objects as go\n",
    "import math"
   ]
  },
  {
   "cell_type": "markdown",
   "id": "30213161-86cd-49a6-b662-4a627d68d73d",
   "metadata": {},
   "source": [
    "### Figure 1"
   ]
  },
  {
   "cell_type": "code",
   "execution_count": null,
   "id": "12c5e585-9ce1-4e46-afea-6f5960f09d31",
   "metadata": {},
   "outputs": [],
   "source": [
    "t = np.linspace(0, 10, 1001)\n",
    "a = 2\n",
    "y = a * t - 10\n",
    "\n",
    "# \n",
    "phase = np.angle(np.exp(1j*y))\n",
    "fig = px.line(x=t, y=phase)\n",
    "fig.add_scatter(x=t, y=y)\n",
    "fig.update_traces(marker=dict(size=3))\n",
    "fig.show()\n"
   ]
  },
  {
   "cell_type": "markdown",
   "id": "33279e54-3a45-49ba-b77d-5968016c3679",
   "metadata": {},
   "source": [
    "### Figure 2"
   ]
  },
  {
   "cell_type": "code",
   "execution_count": null,
   "id": "526c994a-4255-4a9d-a36d-0db6574377b2",
   "metadata": {},
   "outputs": [],
   "source": [
    "t = np.linspace(0, 3, 10001)\n",
    "y_unwrapped = t + t**2 - 3 * t**3 + t**4\n",
    "y_wrapped = np.mod(y_unwrapped, 2 * math.pi);\n",
    "\n",
    "fig = px.line(x=t, y=y_wrapped, title=\"Wrapped\")\n",
    "# fig.add_scatter(x=t, y=y_wrapped)\n",
    "# fig.update_traces(marker=dict(size=3))\n",
    "fig.show()\n",
    "\n",
    "fig = px.line(x=t, y=y_unwrapped, title=\"Unwrapped\")\n",
    "# fig.add_scatter(x=t, y=y_unwrapped)\n",
    "# fig.update_traces(marker=dict(size=3))\n",
    "fig.show()\n",
    "\n",
    "\n"
   ]
  },
  {
   "cell_type": "markdown",
   "id": "b5ade7f0-3e57-4fdd-b928-97319d20cd9e",
   "metadata": {},
   "source": [
    "### Figure 3"
   ]
  },
  {
   "cell_type": "code",
   "execution_count": null,
   "id": "ab9c8ed8-8695-4bac-ba7b-76a66a57b9e9",
   "metadata": {},
   "outputs": [],
   "source": [
    "fname_phase_e1 = os.path.join(\"fmap\", \"BR_e1_ph.nii\")\n",
    "fname_phase_e2 = os.path.join(\"fmap\", \"BR_e2_ph.nii\")\n",
    "fname_phase_e3 = os.path.join(\"fmap\", \"BR_e3_ph.nii\")\n",
    "fname_phase_e4 = os.path.join(\"fmap\", \"BR_e4_ph.nii\")\n",
    "\n",
    "nii_phase_e1 = nib.load(fname_phase_e1)\n",
    "nii_phase_e2 = nib.load(fname_phase_e2)\n",
    "nii_phase_e3 = nib.load(fname_phase_e3)\n",
    "nii_phase_e4 = nib.load(fname_phase_e4)"
   ]
  },
  {
   "cell_type": "code",
   "execution_count": null,
   "id": "ec86da23-6ffc-4c85-935c-57fcda5aee62",
   "metadata": {},
   "outputs": [],
   "source": [
    "phase1 = (nii_phase_e1.get_fdata()[26,47,43] / 4095 * 2 * math.pi - math.pi)\n",
    "phase2 = (nii_phase_e2.get_fdata()[26,47,43] / 4095 * 2 * math.pi - math.pi)\n",
    "phase3 = (nii_phase_e3.get_fdata()[26,47,43] / 4095 * 2 * math.pi - math.pi)\n",
    "phase4 = (nii_phase_e4.get_fdata()[26,47,43] / 4095 * 2 * math.pi - math.pi)\n",
    "\n",
    "print(phase2 - phase1)\n",
    "\n",
    "t = [0.00263, 0.00526, 0.009, 0.013]\n",
    "y = [phase1, phase2, phase3, phase4]\n",
    "fig = px.scatter(x=t, y=y)\n",
    "fig.show()"
   ]
  }
 ],
 "metadata": {
  "kernelspec": {
   "display_name": "Python 3 (ipykernel)",
   "language": "python",
   "name": "python3"
  },
  "language_info": {
   "codemirror_mode": {
    "name": "ipython",
    "version": 3
   },
   "file_extension": ".py",
   "mimetype": "text/x-python",
   "name": "python",
   "nbconvert_exporter": "python",
   "pygments_lexer": "ipython3",
   "version": "3.9.0"
  }
 },
 "nbformat": 4,
 "nbformat_minor": 5
}
